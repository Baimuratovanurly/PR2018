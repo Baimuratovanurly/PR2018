{
 "cells": [
  {
   "cell_type": "code",
   "execution_count": null,
   "metadata": {
    "collapsed": true
   },
   "outputs": [],
   "source": [
    "import pandas as pd\n",
    "import numpy as np\n",
    "import matplotlib.pyplot as plt\n",
    "from datetime import datetime\n",
    "\n",
    "bad = pd.read_csv('darkwizards.csv')\n",
    "bad[:5]\n",
    "#print(bad.values)"
   ]
  },
  {
   "cell_type": "code",
   "execution_count": null,
   "metadata": {
    "collapsed": true
   },
   "outputs": [],
   "source": [
    "import pandas as pd\n",
    "import numpy as np\n",
    "import matplotlib.pyplot as plt\n",
    "from datetime import datetime\n",
    "good = pd.read_csv('wizards.csv')\n",
    "good[:5]"
   ]
  },
  {
   "cell_type": "code",
   "execution_count": null,
   "metadata": {
    "collapsed": true
   },
   "outputs": [],
   "source": [
    "import pandas as pd\n",
    "import numpy as np\n",
    "import matplotlib.pyplot as plt\n",
    "from datetime import datetime\n",
    "\n",
    "maxPhysBad = 0\n",
    "maxMagicBad = 0\n",
    "for i in range(5):    \n",
    "    if maxMagicBad < bad.values[i][3] * bad.values[i][6] /19:\n",
    "        maxMagicBad = bad.values[i][3] * bad.values[i][6] / 19\n",
    "    if maxPhysBad < bad.values[i][4]*bad.values[i][6] / 19:\n",
    "        maxPhysBad =  bad.values[i][4]*bad.values[i][6] / 19\n",
    "        \n",
    "print('сила магии больше чем:')        \n",
    "print(maxMagicBad)\n",
    "print('физическая сила больше чем:') \n",
    "print(maxPhysBad)"
   ]
  },
  {
   "cell_type": "code",
   "execution_count": null,
   "metadata": {
    "collapsed": true
   },
   "outputs": [],
   "source": [
    "import pandas as pd\n",
    "import numpy as np\n",
    "import matplotlib.pyplot as plt\n",
    "from datetime import datetime\n",
    "\n",
    "maxPhysBadForce = 0\n",
    "maxMagicBadForce = 0\n",
    "for i in range(5):    \n",
    "    if maxMagicBadForce < bad.values[i][1] * bad.values[i][6] / 19:\n",
    "        maxMagicBadForce = bad.values[i][1] * bad.values[i][6] / 19\n",
    "    if maxPhysBadForce < bad.values[i][2]*bad.values[i][6] / 19:\n",
    "        maxPhysBadForce =  bad.values[i][2]*bad.values[i][6] / 19\n",
    "        \n",
    "print('в идеале средняя устойчивость моей армии к магии должна быть больше чем:')        \n",
    "print(maxMagicBadForce)\n",
    "print('в идеале средняя устойчивость моей армии к физической силе должна быть больше чем:') \n",
    "print(maxPhysBadForce)"
   ]
  },
  {
   "cell_type": "code",
   "execution_count": null,
   "metadata": {
    "collapsed": true
   },
   "outputs": [],
   "source": [
    "import pandas as pd\n",
    "import numpy as np\n",
    "import matplotlib.pyplot as plt\n",
    "from datetime import datetime\n",
    "maxi = []\n",
    "relation = pd.DataFrame({'skeletone':[0,0,0,0,0], 'zombie':[0,0,0,0,0], 'vamp':[0,0,0,0,0], 'witch'=[0,0,0,0,0], 'dragonbone'=[0,0,0,0,0]}, index= ['village guy', 'elf', 'knight', 'pixie', 'titan'])\n",
    "relation[:5]"
   ]
  },
  {
   "cell_type": "code",
   "execution_count": null,
   "metadata": {
    "collapsed": true
   },
   "outputs": [],
   "source": [
    "r = [][]\n",
    "for i in range(5):\n",
    "    for j in range(5):\n",
    "        print(bad.values[i][0] +\" vs. \" + good.values[j][0])\n",
    "        print(max(float(bad.values[i][1]) * float(good.values[j][1]), float(bad.values[i][2]) * float(good.values[j][2])))\n",
    "        #if float(bad.values[i][1]) * float(good.values[j][1]) >  float(bad.values[i][2]) * float(good.values[j][2]):\n",
    "        maxi.append(max(float(bad.values[i][1]) * float(good.values[j][1]), float(bad.values[i][2]) * float(good.values[j][2])))\n",
    "        r[i][j].append(max(float(bad.values[i][1]) * float(good.values[j][1]), float(bad.values[i][2]) * float(good.values[j][2])))\n",
    "        print('_____')\n",
    "      \n",
    "    \n",
    "    print('##########')\n",
    "print(maxi)"
   ]
  }
 ],
 "metadata": {
  "kernelspec": {
   "display_name": "Python 3",
   "language": "python",
   "name": "python3"
  },
  "language_info": {
   "codemirror_mode": {
    "name": "ipython",
    "version": 3
   },
   "file_extension": ".py",
   "mimetype": "text/x-python",
   "name": "python",
   "nbconvert_exporter": "python",
   "pygments_lexer": "ipython3",
   "version": "3.5.1"
  }
 },
 "nbformat": 4,
 "nbformat_minor": 0
}
